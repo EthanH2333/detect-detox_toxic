{
 "cells": [
  {
   "cell_type": "code",
   "execution_count": 1,
   "metadata": {},
   "outputs": [
    {
     "name": "stdout",
     "output_type": "stream",
     "text": [
      "Using device: mps\n",
      "=======================================\n",
      " Fine-tuning on Chatbot Data\n",
      "=======================================\n"
     ]
    },
    {
     "name": "stderr",
     "output_type": "stream",
     "text": [
      "/Users/ethan/anaconda3/lib/python3.11/site-packages/transformers/optimization.py:591: FutureWarning: This implementation of AdamW is deprecated and will be removed in a future version. Use the PyTorch implementation torch.optim.AdamW instead, or set `no_deprecation_warning=True` to disable this warning\n",
      "  warnings.warn(\n"
     ]
    },
    {
     "name": "stdout",
     "output_type": "stream",
     "text": [
      "\n",
      "[Chatbot] Epoch 1/3\n"
     ]
    },
    {
     "name": "stderr",
     "output_type": "stream",
     "text": [
      "                                                                         \r"
     ]
    },
    {
     "name": "stdout",
     "output_type": "stream",
     "text": [
      "Training Loss: 0.1418\n"
     ]
    },
    {
     "name": "stderr",
     "output_type": "stream",
     "text": [
      "                                                           \r"
     ]
    },
    {
     "name": "stdout",
     "output_type": "stream",
     "text": [
      "Validation Loss: 0.0103 | Acc: 0.9962 | Prec: 1.0000 | Rec: 0.9920 | F1: 0.9960\n",
      "\n",
      "[Chatbot] Epoch 2/3\n"
     ]
    },
    {
     "name": "stderr",
     "output_type": "stream",
     "text": [
      "                                                                          \r"
     ]
    },
    {
     "name": "stdout",
     "output_type": "stream",
     "text": [
      "Training Loss: 0.0041\n"
     ]
    },
    {
     "name": "stderr",
     "output_type": "stream",
     "text": [
      "                                                           \r"
     ]
    },
    {
     "name": "stdout",
     "output_type": "stream",
     "text": [
      "Validation Loss: 0.0071 | Acc: 0.9987 | Prec: 1.0000 | Rec: 0.9973 | F1: 0.9987\n",
      "\n",
      "[Chatbot] Epoch 3/3\n"
     ]
    },
    {
     "name": "stderr",
     "output_type": "stream",
     "text": [
      "                                                                          \r"
     ]
    },
    {
     "name": "stdout",
     "output_type": "stream",
     "text": [
      "Training Loss: 0.0025\n"
     ]
    },
    {
     "name": "stderr",
     "output_type": "stream",
     "text": [
      "                                                           \r"
     ]
    },
    {
     "name": "stdout",
     "output_type": "stream",
     "text": [
      "Validation Loss: 0.0076 | Acc: 0.9975 | Prec: 1.0000 | Rec: 0.9947 | F1: 0.9973\n",
      "\n",
      "=======================================\n",
      " Fine-tuning on Social Media Data\n",
      "=======================================\n"
     ]
    },
    {
     "name": "stderr",
     "output_type": "stream",
     "text": [
      "/Users/ethan/anaconda3/lib/python3.11/site-packages/transformers/optimization.py:591: FutureWarning: This implementation of AdamW is deprecated and will be removed in a future version. Use the PyTorch implementation torch.optim.AdamW instead, or set `no_deprecation_warning=True` to disable this warning\n",
      "  warnings.warn(\n"
     ]
    },
    {
     "name": "stdout",
     "output_type": "stream",
     "text": [
      "\n",
      "[Social] Epoch 1/3\n"
     ]
    },
    {
     "name": "stderr",
     "output_type": "stream",
     "text": [
      "                                                                        \r"
     ]
    },
    {
     "name": "stdout",
     "output_type": "stream",
     "text": [
      "Training Loss: 0.3793\n"
     ]
    },
    {
     "name": "stderr",
     "output_type": "stream",
     "text": [
      "                                                           \r"
     ]
    },
    {
     "name": "stdout",
     "output_type": "stream",
     "text": [
      "Validation Loss: 0.3029 | Acc: 0.8690 | Prec: 0.8886 | Rec: 0.8460 | F1: 0.8668\n",
      "\n",
      "[Social] Epoch 2/3\n"
     ]
    },
    {
     "name": "stderr",
     "output_type": "stream",
     "text": [
      "                                                                         \r"
     ]
    },
    {
     "name": "stdout",
     "output_type": "stream",
     "text": [
      "Training Loss: 0.2015\n"
     ]
    },
    {
     "name": "stderr",
     "output_type": "stream",
     "text": [
      "                                                           \r"
     ]
    },
    {
     "name": "stdout",
     "output_type": "stream",
     "text": [
      "Validation Loss: 0.3290 | Acc: 0.8728 | Prec: 0.8645 | Rec: 0.8864 | F1: 0.8753\n",
      "\n",
      "[Social] Epoch 3/3\n"
     ]
    },
    {
     "name": "stderr",
     "output_type": "stream",
     "text": [
      "                                                                         \r"
     ]
    },
    {
     "name": "stdout",
     "output_type": "stream",
     "text": [
      "Training Loss: 0.1098\n"
     ]
    },
    {
     "name": "stderr",
     "output_type": "stream",
     "text": [
      "                                                           \r"
     ]
    },
    {
     "name": "stdout",
     "output_type": "stream",
     "text": [
      "Validation Loss: 0.3645 | Acc: 0.8779 | Prec: 0.8750 | Rec: 0.8838 | F1: 0.8794\n",
      "\n",
      "=======================================\n",
      " Aggregating the Models\n",
      "=======================================\n",
      "Model aggregation complete.\n",
      "\n",
      "=======================================\n",
      " Evaluating Aggregated Model\n",
      "=======================================\n",
      "\n",
      "-- Test on Chatbot Test Set --\n"
     ]
    },
    {
     "name": "stderr",
     "output_type": "stream",
     "text": [
      "                                                        \r"
     ]
    },
    {
     "name": "stdout",
     "output_type": "stream",
     "text": [
      "Test (Chatbot) Loss: 0.1738\n",
      "Test (Chatbot) Accuracy: 0.9389\n",
      "Test (Chatbot) Precision: 0.9553\n",
      "Test (Chatbot) Recall: 0.9144\n",
      "Test (Chatbot) F1 Score: 0.9344\n"
     ]
    },
    {
     "data": {
      "image/png": "[encoded data removed]",
      "text/plain": [
       "<Figure size 600x500 with 2 Axes>"
      ]
     },
     "metadata": {},
     "output_type": "display_data"
    },
    {
     "name": "stdout",
     "output_type": "stream",
     "text": [
      "\n",
      "-- Test on Social Media Test Set --\n"
     ]
    },
    {
     "name": "stderr",
     "output_type": "stream",
     "text": [
      "                                                        "
     ]
    },
    {
     "name": "stdout",
     "output_type": "stream",
     "text": [
      "Test (Social Media) Loss: 0.9206\n",
      "Test (Social Media) Accuracy: 0.7226\n",
      "Test (Social Media) Precision: 0.6488\n",
      "Test (Social Media) Recall: 0.9798\n",
      "Test (Social Media) F1 Score: 0.7807\n"
     ]
    },
    {
     "name": "stderr",
     "output_type": "stream",
     "text": [
      "\r"
     ]
    },
    {
     "data": {
      "image/png": "[encoded data removed]",
      "text/plain": [
       "<Figure size 600x500 with 2 Axes>"
      ]
     },
     "metadata": {},
     "output_type": "display_data"
    },
    {
     "name": "stdout",
     "output_type": "stream",
     "text": [
      "\n",
      " Start to save the model.\n",
      "\n",
      "Model All saved.\n",
      "\n",
      "All steps completed.\n"
     ]
    }
   ],
   "source": [
    "import torch\n",
    "from transformers import AdamW, get_scheduler, AutoTokenizer, AutoModelForSequenceClassification\n",
    "from torch.utils.data import DataLoader, Dataset\n",
    "from tqdm import tqdm\n",
    "import pandas as pd\n",
    "from sklearn.metrics import accuracy_score, precision_score, recall_score, f1_score, confusion_matrix\n",
    "import numpy as np\n",
    "import matplotlib.pyplot as plt\n",
    "import seaborn as sns\n",
    "\n",
    "# -----------------------------------------------------------------------------\n",
    "# Global Setup\n",
    "# -----------------------------------------------------------------------------\n",
    "\n",
    "# Set random seed for reproducibility\n",
    "torch.manual_seed(42)\n",
    "np.random.seed(42)\n",
    "\n",
    "# Use the new tokenizer from the JungleLee repository\n",
    "tokenizer = AutoTokenizer.from_pretrained(\"JungleLee/bert-toxic-comment-classification\")\n",
    "\n",
    "# Select device: prefer MPS, then CUDA, then CPU\n",
    "device = torch.device(\"mps\") if torch.backends.mps.is_available() else (\n",
    "    torch.device(\"cuda\") if torch.cuda.is_available() else torch.device(\"cpu\")\n",
    ")\n",
    "print(\"Using device:\", device)\n",
    "\n",
    "# -----------------------------------------------------------------------------\n",
    "# Helper Classes & Functions\n",
    "# -----------------------------------------------------------------------------\n",
    "\n",
    "class TextDataset(Dataset):\n",
    "    \"\"\"\n",
    "    Torch Dataset for text classification data.\n",
    "    \"\"\"\n",
    "    def __init__(self, texts, labels, tokenizer, max_length=128):\n",
    "        self.texts = texts\n",
    "        self.labels = labels\n",
    "        self.tokenizer = tokenizer\n",
    "        self.max_length = max_length\n",
    "\n",
    "    def __len__(self):\n",
    "        return len(self.texts)\n",
    "    \n",
    "    def __getitem__(self, idx):\n",
    "        text = self.texts[idx]\n",
    "        label = self.labels[idx]\n",
    "        inputs = self.tokenizer(\n",
    "            text,\n",
    "            max_length=self.max_length,\n",
    "            padding=\"max_length\",\n",
    "            truncation=True,\n",
    "            return_tensors=\"pt\"\n",
    "        )\n",
    "        return {\n",
    "            \"input_ids\": inputs[\"input_ids\"].squeeze(0),\n",
    "            \"attention_mask\": inputs[\"attention_mask\"].squeeze(0),\n",
    "            \"labels\": torch.tensor(label, dtype=torch.long)\n",
    "        }\n",
    "\n",
    "def load_data(file_path):\n",
    "    \"\"\"\n",
    "    Loads and preprocesses data from a CSV file with columns 'cleaned_text' and 'label'.\n",
    "    \"\"\"\n",
    "    data = pd.read_csv(file_path)\n",
    "    data = data.dropna(subset=['cleaned_text', 'label'])  # Remove rows with missing values\n",
    "    data['cleaned_text'] = data['cleaned_text'].astype(str)\n",
    "    return data[\"cleaned_text\"].tolist(), data[\"label\"].tolist()\n",
    "\n",
    "def create_dataloader(texts, labels, tokenizer, batch_size=8, shuffle=False):\n",
    "    dataset = TextDataset(texts, labels, tokenizer)\n",
    "    return DataLoader(dataset, batch_size=batch_size, shuffle=shuffle)\n",
    "\n",
    "def get_model():\n",
    "    \"\"\"\n",
    "    Loads the model from the JungleLee repository.\n",
    "    \"\"\"\n",
    "    return AutoModelForSequenceClassification.from_pretrained(\"JungleLee/bert-toxic-comment-classification\")\n",
    "\n",
    "def train_one_epoch(model, dataloader, optimizer, scheduler, device):\n",
    "    \"\"\"\n",
    "    Trains the model for one epoch.\n",
    "    \"\"\"\n",
    "    model.train()\n",
    "    epoch_loss = 0.0\n",
    "    progress_bar = tqdm(dataloader, desc=\"Training\", leave=False)\n",
    "    for batch in progress_bar:\n",
    "        input_ids = batch[\"input_ids\"].to(device)\n",
    "        attention_mask = batch[\"attention_mask\"].to(device)\n",
    "        labels = batch[\"labels\"].to(device)\n",
    "        \n",
    "        outputs = model(input_ids=input_ids, attention_mask=attention_mask, labels=labels)\n",
    "        loss = outputs.loss\n",
    "        epoch_loss += loss.item()\n",
    "        \n",
    "        optimizer.zero_grad()\n",
    "        loss.backward()\n",
    "        optimizer.step()\n",
    "        scheduler.step()\n",
    "        \n",
    "        progress_bar.set_postfix(loss=loss.item())\n",
    "    \n",
    "    return epoch_loss / len(dataloader)\n",
    "\n",
    "def validate(model, dataloader, device):\n",
    "    \"\"\"\n",
    "    Validates the model.\n",
    "    \"\"\"\n",
    "    model.eval()\n",
    "    val_losses = []\n",
    "    all_labels = []\n",
    "    all_preds = []\n",
    "    \n",
    "    with torch.no_grad():\n",
    "        progress_bar = tqdm(dataloader, desc=\"Validation\", leave=False)\n",
    "        for batch in progress_bar:\n",
    "            input_ids = batch[\"input_ids\"].to(device)\n",
    "            attention_mask = batch[\"attention_mask\"].to(device)\n",
    "            labels = batch[\"labels\"].to(device)\n",
    "            \n",
    "            outputs = model(input_ids=input_ids, attention_mask=attention_mask, labels=labels)\n",
    "            loss = outputs.loss\n",
    "            val_losses.append(loss.item())\n",
    "            \n",
    "            preds = torch.argmax(outputs.logits, dim=1)\n",
    "            all_labels.extend(labels.cpu().numpy())\n",
    "            all_preds.extend(preds.cpu().numpy())\n",
    "    \n",
    "    average_loss = np.mean(val_losses)\n",
    "    accuracy = accuracy_score(all_labels, all_preds)\n",
    "    precision = precision_score(all_labels, all_preds, zero_division=0)\n",
    "    recall = recall_score(all_labels, all_preds, zero_division=0)\n",
    "    f1 = f1_score(all_labels, all_preds, zero_division=0)\n",
    "    \n",
    "    return average_loss, accuracy, precision, recall, f1, all_labels, all_preds\n",
    "\n",
    "def evaluate(model, dataloader, device):\n",
    "    \"\"\"\n",
    "    Evaluates the model on the test set.\n",
    "    \"\"\"\n",
    "    model.eval()\n",
    "    test_losses = []\n",
    "    test_labels_list = []\n",
    "    test_preds_list = []\n",
    "    \n",
    "    with torch.no_grad():\n",
    "        progress_bar = tqdm(dataloader, desc=\"Testing\", leave=False)\n",
    "        for batch in progress_bar:\n",
    "            input_ids = batch[\"input_ids\"].to(device)\n",
    "            attention_mask = batch[\"attention_mask\"].to(device)\n",
    "            labels = batch[\"labels\"].to(device)\n",
    "            \n",
    "            outputs = model(input_ids=input_ids, attention_mask=attention_mask, labels=labels)\n",
    "            loss = outputs.loss\n",
    "            test_losses.append(loss.item())\n",
    "            \n",
    "            preds = torch.argmax(outputs.logits, dim=1)\n",
    "            test_labels_list.extend(labels.cpu().numpy())\n",
    "            test_preds_list.extend(preds.cpu().numpy())\n",
    "    \n",
    "    average_test_loss = np.mean(test_losses)\n",
    "    test_accuracy = accuracy_score(test_labels_list, test_preds_list)\n",
    "    test_precision = precision_score(test_labels_list, test_preds_list, zero_division=0)\n",
    "    test_recall = recall_score(test_labels_list, test_preds_list, zero_division=0)\n",
    "    test_f1 = f1_score(test_labels_list, test_preds_list, zero_division=0)\n",
    "    \n",
    "    return average_test_loss, test_accuracy, test_precision, test_recall, test_f1, test_labels_list, test_preds_list\n",
    "\n",
    "def plot_confusion_matrix(y_true, y_pred, classes, title='Confusion Matrix'):\n",
    "    \"\"\"\n",
    "    Plots a confusion matrix using seaborn.\n",
    "    \"\"\"\n",
    "    cm = confusion_matrix(y_true, y_pred)\n",
    "    plt.figure(figsize=(6, 5))\n",
    "    sns.heatmap(cm, annot=True, fmt='d', cmap='Blues',\n",
    "                xticklabels=classes, yticklabels=classes)\n",
    "    plt.xlabel('Predicted')\n",
    "    plt.ylabel('True')\n",
    "    plt.title(title)\n",
    "    plt.show()\n",
    "\n",
    "def aggregate_models(model1, model2):\n",
    "    \"\"\"\n",
    "    Aggregates two models by combining their parameters elementwise such that if at least one model \n",
    "    leans \"toxic\" (represented by a positive parameter value), then the aggregated parameter is positive.\n",
    "    Specifically:\n",
    "      - Each parameter's sign is computed as +1 if > 0 (toxic) or -1 if ≤ 0 (non-toxic).\n",
    "      - The aggregated sign is the maximum of the two signs, so that if either is +1, the result is +1.\n",
    "      - The magnitude is computed as the average of the absolute values.\n",
    "    \"\"\"\n",
    "    state_dict1 = model1.state_dict()\n",
    "    state_dict2 = model2.state_dict()\n",
    "    aggregated_state_dict = {}\n",
    "\n",
    "    for key in state_dict1.keys():\n",
    "        param1 = state_dict1[key]\n",
    "        param2 = state_dict2[key]\n",
    "        \n",
    "        # Determine sign: +1 if parameter > 0 (toxic), -1 otherwise (non-toxic)\n",
    "        s1 = (param1 > 0).float() * 2 - 1\n",
    "        s2 = (param2 > 0).float() * 2 - 1\n",
    "        \n",
    "        # Aggregated sign: if either s1 or s2 is +1, then the aggregated sign is +1; otherwise, it's -1.\n",
    "        aggregated_sign = torch.max(s1, s2)\n",
    "        \n",
    "        # Average magnitude of the parameters\n",
    "        magnitude = 0.5 * (torch.abs(param1) + torch.abs(param2))\n",
    "        \n",
    "        # Aggregated parameter is the sign times the averaged magnitude.\n",
    "        aggregated_state_dict[key] = aggregated_sign * magnitude\n",
    "\n",
    "    # Use get_model() here instead of get_peft_model() to create a new model instance.\n",
    "    aggregated_model = get_model().to(device)\n",
    "    aggregated_model.load_state_dict(aggregated_state_dict)\n",
    "    return aggregated_model\n",
    "\n",
    "\n",
    "# Define class names for confusion matrices\n",
    "class_names = ['Non-Toxic', 'Toxic']\n",
    "\n",
    "# -----------------------------------------------------------------------------\n",
    "# Experiment: Fine-tuning on Chatbot Data\n",
    "# -----------------------------------------------------------------------------\n",
    "print(\"=======================================\")\n",
    "print(\" Fine-tuning on Chatbot Data\")\n",
    "print(\"=======================================\")\n",
    "\n",
    "# Load Chatbot data\n",
    "chatbot_train_texts, chatbot_train_labels = load_data(\"chatbot_final_data_train.csv\")\n",
    "chatbot_val_texts,   chatbot_val_labels   = load_data(\"chatbot_final_data_test.csv\")\n",
    "chatbot_test_texts,  chatbot_test_labels  = load_data(\"chatbot_final_data_test.csv\")\n",
    "\n",
    "# Create dataloaders for Chatbot data\n",
    "train_dataloader_chatbot = create_dataloader(chatbot_train_texts, chatbot_train_labels, tokenizer, batch_size=8, shuffle=True)\n",
    "val_dataloader_chatbot   = create_dataloader(chatbot_val_texts,   chatbot_val_labels,   tokenizer, batch_size=8, shuffle=False)\n",
    "test_dataloader_chatbot  = create_dataloader(chatbot_test_texts,  chatbot_test_labels,  tokenizer, batch_size=8, shuffle=False)\n",
    "\n",
    "# Initialize and train model on Chatbot data\n",
    "model_chatbot = get_model().to(device)\n",
    "optimizer_chatbot = AdamW(model_chatbot.parameters(), lr=2e-5)\n",
    "num_epochs = 3\n",
    "num_training_steps = num_epochs * len(train_dataloader_chatbot)\n",
    "lr_scheduler_chatbot = get_scheduler(\"linear\", optimizer=optimizer_chatbot, num_warmup_steps=0, num_training_steps=num_training_steps)\n",
    "\n",
    "for epoch in range(num_epochs):\n",
    "    print(f\"\\n[Chatbot] Epoch {epoch+1}/{num_epochs}\")\n",
    "    train_loss = train_one_epoch(model_chatbot, train_dataloader_chatbot, optimizer_chatbot, lr_scheduler_chatbot, device)\n",
    "    print(f\"Training Loss: {train_loss:.4f}\")\n",
    "    \n",
    "    val_loss, val_acc, val_prec, val_rec, val_f1, _, _ = validate(model_chatbot, val_dataloader_chatbot, device)\n",
    "    print(f\"Validation Loss: {val_loss:.4f} | Acc: {val_acc:.4f} | Prec: {val_prec:.4f} | Rec: {val_rec:.4f} | F1: {val_f1:.4f}\")\n",
    "\n",
    "# -----------------------------------------------------------------------------\n",
    "# Experiment: Fine-tuning on Social Media Data\n",
    "# -----------------------------------------------------------------------------\n",
    "print(\"\\n=======================================\")\n",
    "print(\" Fine-tuning on Social Media Data\")\n",
    "print(\"=======================================\")\n",
    "\n",
    "# Load Social Media data\n",
    "social_train_texts, social_train_labels = load_data(\"social_media_final_data_train.csv\")\n",
    "social_val_texts,   social_val_labels   = load_data(\"social_media_final_data_test.csv\")\n",
    "social_test_texts,  social_test_labels  = load_data(\"social_media_final_data_test.csv\")\n",
    "\n",
    "# Create dataloaders for Social Media data\n",
    "train_dataloader_social = create_dataloader(social_train_texts, social_train_labels, tokenizer, batch_size=8, shuffle=True)\n",
    "val_dataloader_social   = create_dataloader(social_val_texts,   social_val_labels,   tokenizer, batch_size=8, shuffle=False)\n",
    "test_dataloader_social  = create_dataloader(social_test_texts,  social_test_labels,  tokenizer, batch_size=8, shuffle=False)\n",
    "\n",
    "# Initialize and train model on Social Media data\n",
    "model_social = get_model().to(device)\n",
    "optimizer_social = AdamW(model_social.parameters(), lr=2e-5)\n",
    "num_training_steps_social = num_epochs * len(train_dataloader_social)\n",
    "lr_scheduler_social = get_scheduler(\"linear\", optimizer=optimizer_social, num_warmup_steps=0, num_training_steps=num_training_steps_social)\n",
    "\n",
    "for epoch in range(num_epochs):\n",
    "    print(f\"\\n[Social] Epoch {epoch+1}/{num_epochs}\")\n",
    "    train_loss = train_one_epoch(model_social, train_dataloader_social, optimizer_social, lr_scheduler_social, device)\n",
    "    print(f\"Training Loss: {train_loss:.4f}\")\n",
    "    \n",
    "    val_loss, val_acc, val_prec, val_rec, val_f1, _, _ = validate(model_social, val_dataloader_social, device)\n",
    "    print(f\"Validation Loss: {val_loss:.4f} | Acc: {val_acc:.4f} | Prec: {val_prec:.4f} | Rec: {val_rec:.4f} | F1: {val_f1:.4f}\")\n",
    "\n",
    "# -----------------------------------------------------------------------------\n",
    "# Aggregate the Two Fine-Tuned Models\n",
    "# -----------------------------------------------------------------------------\n",
    "print(\"\\n=======================================\")\n",
    "print(\" Aggregating the Models\")\n",
    "print(\"=======================================\")\n",
    "\n",
    "aggregated_model = aggregate_models(model_chatbot, model_social)\n",
    "print(\"Model aggregation complete.\")\n",
    "\n",
    "# -----------------------------------------------------------------------------\n",
    "# Evaluate the Aggregated Model on Test Sets\n",
    "# -----------------------------------------------------------------------------\n",
    "print(\"\\n=======================================\")\n",
    "print(\" Evaluating Aggregated Model\")\n",
    "print(\"=======================================\")\n",
    "\n",
    "# Evaluate on Chatbot Test Set\n",
    "print(\"\\n-- Test on Chatbot Test Set --\")\n",
    "test_loss_cb, test_acc_cb, test_prec_cb, test_rec_cb, test_f1_cb, y_true_cb, y_pred_cb = evaluate(aggregated_model, test_dataloader_chatbot, device)\n",
    "print(f\"Test (Chatbot) Loss: {test_loss_cb:.4f}\")\n",
    "print(f\"Test (Chatbot) Accuracy: {test_acc_cb:.4f}\")\n",
    "print(f\"Test (Chatbot) Precision: {test_prec_cb:.4f}\")\n",
    "print(f\"Test (Chatbot) Recall: {test_rec_cb:.4f}\")\n",
    "print(f\"Test (Chatbot) F1 Score: {test_f1_cb:.4f}\")\n",
    "plot_confusion_matrix(y_true_cb, y_pred_cb, classes=class_names, title=\"Confusion Matrix - Aggregated Model (Chatbot Test)\")\n",
    "\n",
    "# Evaluate on Social Media Test Set\n",
    "print(\"\\n-- Test on Social Media Test Set --\")\n",
    "test_loss_sm, test_acc_sm, test_prec_sm, test_rec_sm, test_f1_sm, y_true_sm, y_pred_sm = evaluate(aggregated_model, test_dataloader_social, device)\n",
    "print(f\"Test (Social Media) Loss: {test_loss_sm:.4f}\")\n",
    "print(f\"Test (Social Media) Accuracy: {test_acc_sm:.4f}\")\n",
    "print(f\"Test (Social Media) Precision: {test_prec_sm:.4f}\")\n",
    "print(f\"Test (Social Media) Recall: {test_rec_sm:.4f}\")\n",
    "print(f\"Test (Social Media) F1 Score: {test_f1_sm:.4f}\")\n",
    "plot_confusion_matrix(y_true_sm, y_pred_sm, classes=class_names, title=\"Confusion Matrix - Aggregated Model (Social Media Test)\")\n",
    "\n",
    "print(\"\\n Start to save the model.\")\n",
    "\n",
    "# Save the fine-tuned Chatbot model (e.g., for finance-related tasks)\n",
    "model_chatbot.save_pretrained(\"bert_finance\")\n",
    "\n",
    "# Save the fine-tuned Social Media model\n",
    "model_social.save_pretrained(\"bert_soical\")\n",
    "\n",
    "print(\"\\nModel All saved.\")\n",
    "\n",
    "print(\"\\nAll steps completed.\")\n"
   ]
  }
 ],
 "metadata": {
  "kernelspec": {
   "display_name": "base",
   "language": "python",
   "name": "python3"
  },
  "language_info": {
   "codemirror_mode": {
    "name": "ipython",
    "version": 3
   },
   "file_extension": ".py",
   "mimetype": "text/x-python",
   "name": "python",
   "nbconvert_exporter": "python",
   "pygments_lexer": "ipython3",
   "version": "3.11.5"
  }
 },
 "nbformat": 4,
 "nbformat_minor": 2
}
