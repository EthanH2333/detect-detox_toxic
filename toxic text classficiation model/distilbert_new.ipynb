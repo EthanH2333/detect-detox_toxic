{
 "cells": [
  {
   "cell_type": "code",
   "execution_count": 1,
   "metadata": {},
   "outputs": [
    {
     "name": "stderr",
     "output_type": "stream",
     "text": [
      "Some weights of DistilBertForSequenceClassification were not initialized from the model checkpoint at distilbert-base-uncased and are newly initialized: ['classifier.bias', 'classifier.weight', 'pre_classifier.bias', 'pre_classifier.weight']\n",
      "You should probably TRAIN this model on a down-stream task to be able to use it for predictions and inference.\n"
     ]
    },
    {
     "name": "stdout",
     "output_type": "stream",
     "text": [
      "Using device: mps\n"
     ]
    },
    {
     "name": "stderr",
     "output_type": "stream",
     "text": [
      "/Users/ethan/anaconda3/lib/python3.11/site-packages/transformers/optimization.py:591: FutureWarning: This implementation of AdamW is deprecated and will be removed in a future version. Use the PyTorch implementation torch.optim.AdamW instead, or set `no_deprecation_warning=True` to disable this warning\n",
      "  warnings.warn(\n"
     ]
    },
    {
     "name": "stdout",
     "output_type": "stream",
     "text": [
      "Epoch 1/3\n"
     ]
    },
    {
     "name": "stderr",
     "output_type": "stream",
     "text": [
      "                                                                           \r"
     ]
    },
    {
     "name": "stdout",
     "output_type": "stream",
     "text": [
      "Training Loss: 0.1716\n"
     ]
    },
    {
     "name": "stderr",
     "output_type": "stream",
     "text": [
      "                                                             \r"
     ]
    },
    {
     "name": "stdout",
     "output_type": "stream",
     "text": [
      "Validation Loss: 0.0828\n",
      "Validation Accuracy: 0.9643\n",
      "Validation Precision: 0.9808\n",
      "Validation Recall: 0.3481\n",
      "Validation F1 Score: 0.5139\n",
      "Epoch 2/3\n"
     ]
    },
    {
     "name": "stderr",
     "output_type": "stream",
     "text": [
      "                                                                           \r"
     ]
    },
    {
     "name": "stdout",
     "output_type": "stream",
     "text": [
      "Training Loss: 0.0635\n"
     ]
    },
    {
     "name": "stderr",
     "output_type": "stream",
     "text": [
      "                                                             \r"
     ]
    },
    {
     "name": "stdout",
     "output_type": "stream",
     "text": [
      "Validation Loss: 0.0386\n",
      "Validation Accuracy: 0.9907\n",
      "Validation Precision: 0.9959\n",
      "Validation Recall: 0.8328\n",
      "Validation F1 Score: 0.9071\n",
      "Epoch 3/3\n"
     ]
    },
    {
     "name": "stderr",
     "output_type": "stream",
     "text": [
      "                                                                           \r"
     ]
    },
    {
     "name": "stdout",
     "output_type": "stream",
     "text": [
      "Training Loss: 0.0405\n"
     ]
    },
    {
     "name": "stderr",
     "output_type": "stream",
     "text": [
      "                                                             \r"
     ]
    },
    {
     "name": "stdout",
     "output_type": "stream",
     "text": [
      "Validation Loss: 0.0306\n",
      "Validation Accuracy: 0.9926\n",
      "Validation Precision: 0.9961\n",
      "Validation Recall: 0.8669\n",
      "Validation F1 Score: 0.9270\n",
      "\n",
      "Evaluating on Test Set...\n"
     ]
    },
    {
     "name": "stderr",
     "output_type": "stream",
     "text": [
      "                                                          "
     ]
    },
    {
     "name": "stdout",
     "output_type": "stream",
     "text": [
      "Test Loss: 0.0299\n",
      "Test Accuracy: 0.9939\n",
      "Test Precision: 0.9924\n",
      "Test Recall: 0.8942\n",
      "Test F1 Score: 0.9408\n"
     ]
    },
    {
     "name": "stderr",
     "output_type": "stream",
     "text": [
      "\r"
     ]
    }
   ],
   "source": [
    "import torch\n",
    "from transformers import AdamW, get_scheduler, AutoTokenizer, AutoModelForSequenceClassification\n",
    "from torch.utils.data import DataLoader, Dataset\n",
    "from tqdm import tqdm\n",
    "import pandas as pd\n",
    "from sklearn.metrics import accuracy_score, precision_score, recall_score, f1_score\n",
    "import numpy as np\n",
    "\n",
    "# Import PEFT components\n",
    "from peft import PeftConfig, PeftModel  # Make sure you have the 'peft' library installed\n",
    "\n",
    "# Set random seed for reproducibility\n",
    "torch.manual_seed(42)\n",
    "np.random.seed(42)\n",
    "\n",
    "# Load the tokenizer\n",
    "tokenizer = AutoTokenizer.from_pretrained(\"distilbert-base-uncased\")\n",
    "\n",
    "# Load the PEFT model configuration and base model\n",
    "config = PeftConfig.from_pretrained(\"cyrp/distilbert-base-uncased-lora-text-classification-toxicchat-jailbreak\")\n",
    "base_model = AutoModelForSequenceClassification.from_pretrained(\"distilbert-base-uncased\", num_labels=2)\n",
    "model = PeftModel.from_pretrained(base_model, \"cyrp/distilbert-base-uncased-lora-text-classification-toxicchat-jailbreak\")\n",
    "\n",
    "# Check for MPS device and set it as the default device if available\n",
    "device = torch.device(\"mps\") if torch.backends.mps.is_available() else torch.device(\n",
    "    \"cuda\" if torch.cuda.is_available() else \"cpu\"\n",
    ")\n",
    "print(\"Using device:\", device)\n",
    "\n",
    "model.to(device)\n",
    "\n",
    "# Define a dataset class\n",
    "class TextDataset(Dataset):\n",
    "    def __init__(self, texts, labels, tokenizer, max_length=128):\n",
    "        self.texts = texts\n",
    "        self.labels = labels\n",
    "        self.tokenizer = tokenizer\n",
    "        self.max_length = max_length\n",
    "\n",
    "    def __len__(self):\n",
    "        return len(self.texts)\n",
    "\n",
    "    def __getitem__(self, idx):\n",
    "        text = self.texts[idx]\n",
    "        label = self.labels[idx]\n",
    "        inputs = self.tokenizer(\n",
    "            text,\n",
    "            max_length=self.max_length,\n",
    "            padding=\"max_length\",\n",
    "            truncation=True,\n",
    "            return_tensors=\"pt\"\n",
    "        )\n",
    "        return {\n",
    "            \"input_ids\": inputs[\"input_ids\"].squeeze(0),\n",
    "            \"attention_mask\": inputs[\"attention_mask\"].squeeze(0),\n",
    "            \"labels\": torch.tensor(label, dtype=torch.long)\n",
    "        }\n",
    "\n",
    "# Function to load and preprocess data\n",
    "def load_data(file_path):\n",
    "    data = pd.read_csv(file_path)\n",
    "    data = data.dropna(subset=['text', 'label'])  # Remove rows with NaN in 'text' or 'is_offensive'\n",
    "    data['text'] = data['text'].astype(str)  # Ensure all entries in 'text' are strings\n",
    "    return data[\"text\"].tolist(), data[\"label\"].tolist()\n",
    "\n",
    "# Load separate CSV files\n",
    "train_texts, train_labels = load_data(\"train_data_new.csv\")\n",
    "val_texts, val_labels = load_data(\"validate_data_new.csv\")\n",
    "test_texts, test_labels = load_data(\"test_data_new.csv\")\n",
    "\n",
    "# Create Datasets\n",
    "train_dataset = TextDataset(train_texts, train_labels, tokenizer)\n",
    "val_dataset = TextDataset(val_texts, val_labels, tokenizer)\n",
    "test_dataset = TextDataset(test_texts, test_labels, tokenizer)\n",
    "\n",
    "# Create DataLoaders\n",
    "train_dataloader = DataLoader(train_dataset, batch_size=8, shuffle=True)\n",
    "val_dataloader = DataLoader(val_dataset, batch_size=8)\n",
    "test_dataloader = DataLoader(test_dataset, batch_size=8)\n",
    "\n",
    "# Set up optimizer and learning rate scheduler\n",
    "optimizer = AdamW(model.parameters(), lr=2e-5)\n",
    "num_epochs = 3\n",
    "num_training_steps = num_epochs * len(train_dataloader)\n",
    "lr_scheduler = get_scheduler(\n",
    "    \"linear\",\n",
    "    optimizer=optimizer,\n",
    "    num_warmup_steps=0,\n",
    "    num_training_steps=num_training_steps\n",
    ")\n",
    "\n",
    "# Fine-tune the model\n",
    "model.train()\n",
    "for epoch in range(num_epochs):\n",
    "    print(f\"Epoch {epoch + 1}/{num_epochs}\")\n",
    "    epoch_loss = 0\n",
    "    progress_bar = tqdm(train_dataloader, desc=\"Training\", leave=False)\n",
    "    for batch in progress_bar:\n",
    "        # Move batch to device\n",
    "        input_ids = batch[\"input_ids\"].to(device)\n",
    "        attention_mask = batch[\"attention_mask\"].to(device)\n",
    "        labels = batch[\"labels\"].to(device)\n",
    "\n",
    "        # Forward pass\n",
    "        outputs = model(input_ids=input_ids, attention_mask=attention_mask, labels=labels)\n",
    "        loss = outputs.loss\n",
    "        epoch_loss += loss.item()\n",
    "\n",
    "        # Backward pass\n",
    "        optimizer.zero_grad()\n",
    "        loss.backward()\n",
    "        optimizer.step()\n",
    "        lr_scheduler.step()\n",
    "\n",
    "        progress_bar.set_postfix(loss=loss.item())\n",
    "\n",
    "    avg_loss = epoch_loss / len(train_dataloader)\n",
    "    print(f\"Training Loss: {avg_loss:.4f}\")\n",
    "\n",
    "    # Validation after each epoch\n",
    "    model.eval()\n",
    "    val_losses = []\n",
    "    all_labels = []\n",
    "    all_preds = []\n",
    "\n",
    "    with torch.no_grad():\n",
    "        progress_bar = tqdm(val_dataloader, desc=\"Validation\", leave=False)\n",
    "        for batch in progress_bar:\n",
    "            input_ids = batch[\"input_ids\"].to(device)\n",
    "            attention_mask = batch[\"attention_mask\"].to(device)\n",
    "            labels = batch[\"labels\"].to(device)\n",
    "\n",
    "            # Forward pass\n",
    "            outputs = model(input_ids=input_ids, attention_mask=attention_mask, labels=labels)\n",
    "            loss = outputs.loss\n",
    "            val_losses.append(loss.item())\n",
    "\n",
    "            # Get predictions\n",
    "            logits = outputs.logits\n",
    "            preds = torch.argmax(logits, dim=1)\n",
    "            all_labels.extend(labels.cpu().numpy())\n",
    "            all_preds.extend(preds.cpu().numpy())\n",
    "\n",
    "    # Calculate validation metrics\n",
    "    average_val_loss = np.mean(val_losses)\n",
    "    val_accuracy = accuracy_score(all_labels, all_preds)\n",
    "    val_precision = precision_score(all_labels, all_preds, zero_division=0)\n",
    "    val_recall = recall_score(all_labels, all_preds, zero_division=0)\n",
    "    val_f1 = f1_score(all_labels, all_preds, zero_division=0)\n",
    "\n",
    "    print(f\"Validation Loss: {average_val_loss:.4f}\")\n",
    "    print(f\"Validation Accuracy: {val_accuracy:.4f}\")\n",
    "    print(f\"Validation Precision: {val_precision:.4f}\")\n",
    "    print(f\"Validation Recall: {val_recall:.4f}\")\n",
    "    print(f\"Validation F1 Score: {val_f1:.4f}\")\n",
    "\n",
    "    model.train()  # Switch back to training mode\n",
    "\n",
    "# Evaluation on test set\n",
    "print(\"\\nEvaluating on Test Set...\")\n",
    "model.eval()\n",
    "test_losses = []\n",
    "test_labels_list = []\n",
    "test_preds_list = []\n",
    "\n",
    "with torch.no_grad():\n",
    "    progress_bar = tqdm(test_dataloader, desc=\"Testing\", leave=False)\n",
    "    for batch in progress_bar:\n",
    "        input_ids = batch[\"input_ids\"].to(device)\n",
    "        attention_mask = batch[\"attention_mask\"].to(device)\n",
    "        labels = batch[\"labels\"].to(device)\n",
    "\n",
    "        # Forward pass\n",
    "        outputs = model(input_ids=input_ids, attention_mask=attention_mask, labels=labels)\n",
    "        loss = outputs.loss\n",
    "        test_losses.append(loss.item())\n",
    "\n",
    "        # Get predictions\n",
    "        logits = outputs.logits\n",
    "        preds = torch.argmax(logits, dim=1)\n",
    "        test_labels_list.extend(labels.cpu().numpy())\n",
    "        test_preds_list.extend(preds.cpu().numpy())\n",
    "\n",
    "# Calculate test metrics\n",
    "average_test_loss = np.mean(test_losses)\n",
    "test_accuracy = accuracy_score(test_labels_list, test_preds_list)\n",
    "test_precision = precision_score(test_labels_list, test_preds_list, zero_division=0)\n",
    "test_recall = recall_score(test_labels_list, test_preds_list, zero_division=0)\n",
    "test_f1 = f1_score(test_labels_list, test_preds_list, zero_division=0)\n",
    "\n",
    "# Print test results\n",
    "print(f\"Test Loss: {average_test_loss:.4f}\")\n",
    "print(f\"Test Accuracy: {test_accuracy:.4f}\")\n",
    "print(f\"Test Precision: {test_precision:.4f}\")\n",
    "print(f\"Test Recall: {test_recall:.4f}\")\n",
    "print(f\"Test F1 Score: {test_f1:.4f}\")\n",
    "\n",
    "# (Optional) Save the fine-tuned model\n",
    "# model.save_pretrained(\"fine-tuned-toxicchat-model\")\n",
    "# tokenizer.save_pretrained(\"fine-tuned-toxicchat-model\")\n"
   ]
  },
  {
   "cell_type": "code",
   "execution_count": 2,
   "metadata": {},
   "outputs": [
    {
     "data": {
      "image/png": "[encoded data removed]",
      "text/plain": [
       "<Figure size 800x600 with 2 Axes>"
      ]
     },
     "metadata": {},
     "output_type": "display_data"
    }
   ],
   "source": [
    "import matplotlib.pyplot as plt\n",
    "import seaborn as sns\n",
    "from sklearn.metrics import confusion_matrix\n",
    "\n",
    "# Import PEFT components\n",
    "from peft import PeftConfig, PeftModel  # Make sure you have the 'peft' library installed\n",
    "\n",
    "# Plot Confusion Matrix\n",
    "def plot_confusion_matrix(y_true, y_pred, classes, title='Confusion Matrix'):\n",
    "    \"\"\"\n",
    "    Plots the confusion matrix using seaborn's heatmap.\n",
    "    \n",
    "    Args:\n",
    "        y_true (list or array): True labels.\n",
    "        y_pred (list or array): Predicted labels.\n",
    "        classes (list): List of class names.\n",
    "        title (str): Title of the plot.\n",
    "    \"\"\"\n",
    "    cm = confusion_matrix(y_true, y_pred)\n",
    "    plt.figure(figsize=(8, 6))\n",
    "    sns.heatmap(cm, annot=True, fmt='d', cmap='Blues',\n",
    "                xticklabels=classes, yticklabels=classes)\n",
    "    plt.xlabel('Predicted Labels')\n",
    "    plt.ylabel('True Labels')\n",
    "    plt.title(title)\n",
    "    plt.show()\n",
    "\n",
    "# Define class names (modify if you have different labels)\n",
    "class_names = ['Non-Toxic', 'Toxic']\n",
    "\n",
    "# Plot the confusion matrix for the test set\n",
    "plot_confusion_matrix(test_labels_list, test_preds_list, classes=class_names, title='Test Set Confusion Matrix')\n"
   ]
  },
  {
   "cell_type": "code",
   "execution_count": 6,
   "metadata": {},
   "outputs": [
    {
     "name": "stdout",
     "output_type": "stream",
     "text": [
      "\n",
      "Evaluating on Additional Testing Dataset (testing_25k.csv)...\n"
     ]
    },
    {
     "name": "stderr",
     "output_type": "stream",
     "text": [
      "                                                                \r"
     ]
    },
    {
     "name": "stdout",
     "output_type": "stream",
     "text": [
      "Testing_25k Loss: 1.1645\n",
      "Testing_25k Accuracy: 0.4889\n",
      "Testing_25k Precision: 0.4903\n",
      "Testing_25k Recall: 0.5601\n",
      "Testing_25k F1 Score: 0.5229\n"
     ]
    },
    {
     "data": {
      "image/png": "[encoded data removed]",
      "text/plain": [
       "<Figure size 800x600 with 2 Axes>"
      ]
     },
     "metadata": {},
     "output_type": "display_data"
    }
   ],
   "source": [
    "# ================== New Additions Start Here ==================\n",
    "\n",
    "import matplotlib.pyplot as plt\n",
    "import seaborn as sns\n",
    "from sklearn.metrics import confusion_matrix\n",
    "\n",
    "# 1. Load the additional testing dataset 'testing_25k.csv' with the correct label column name\n",
    "def load_testing25k_data(file_path):\n",
    "    \"\"\"\n",
    "    Loads and preprocesses the testing_25k.csv dataset.\n",
    "\n",
    "    Args:\n",
    "        file_path (str): Path to the testing_25k.csv file.\n",
    "\n",
    "    Returns:\n",
    "        list: List of texts.\n",
    "        list: List of labels.\n",
    "    \"\"\"\n",
    "    data = pd.read_csv(file_path)\n",
    "    data = data.dropna(subset=['text', 'is_toxic'])  # Remove rows with NaN in 'text' or 'labelsis_toxic'\n",
    "    data['text'] = data['text'].astype(str)  # Ensure all entries in 'text' are strings\n",
    "    return data[\"text\"].tolist(), data[\"is_toxic\"].tolist()\n",
    "\n",
    "# Load the 'testing_25k.csv' dataset\n",
    "testing25k_texts, testing25k_labels = load_testing25k_data(\"testing_25k.csv\")\n",
    "\n",
    "# 2. Create a Dataset and DataLoader for the new testing data\n",
    "testing25k_dataset = TextDataset(testing25k_texts, testing25k_labels, tokenizer)\n",
    "testing25k_dataloader = DataLoader(testing25k_dataset, batch_size=8)\n",
    "\n",
    "# 3. Evaluate the model on the new testing dataset\n",
    "print(\"\\nEvaluating on Additional Testing Dataset (testing_25k.csv)...\")\n",
    "model.eval()\n",
    "testing25k_losses = []\n",
    "testing25k_labels_list = []\n",
    "testing25k_preds_list = []\n",
    "\n",
    "with torch.no_grad():\n",
    "    progress_bar = tqdm(testing25k_dataloader, desc=\"Testing 25k\", leave=False)\n",
    "    for batch in progress_bar:\n",
    "        input_ids = batch[\"input_ids\"].to(device)\n",
    "        attention_mask = batch[\"attention_mask\"].to(device)\n",
    "        labels = batch[\"labels\"].to(device)\n",
    "\n",
    "        # Forward pass\n",
    "        outputs = model(input_ids=input_ids, attention_mask=attention_mask, labels=labels)\n",
    "        loss = outputs.loss\n",
    "        testing25k_losses.append(loss.item())\n",
    "\n",
    "        # Get predictions\n",
    "        logits = outputs.logits\n",
    "        preds = torch.argmax(logits, dim=1)\n",
    "        testing25k_labels_list.extend(labels.cpu().numpy())\n",
    "        testing25k_preds_list.extend(preds.cpu().numpy())\n",
    "\n",
    "# 4. Calculate metrics for the new testing dataset\n",
    "average_testing25k_loss = np.mean(testing25k_losses)\n",
    "testing25k_accuracy = accuracy_score(testing25k_labels_list, testing25k_preds_list)\n",
    "testing25k_precision = precision_score(testing25k_labels_list, testing25k_preds_list, zero_division=0)\n",
    "testing25k_recall = recall_score(testing25k_labels_list, testing25k_preds_list, zero_division=0)\n",
    "testing25k_f1 = f1_score(testing25k_labels_list, testing25k_preds_list, zero_division=0)\n",
    "\n",
    "# 5. Print the metrics\n",
    "print(f\"Testing_25k Loss: {average_testing25k_loss:.4f}\")\n",
    "print(f\"Testing_25k Accuracy: {testing25k_accuracy:.4f}\")\n",
    "print(f\"Testing_25k Precision: {testing25k_precision:.4f}\")\n",
    "print(f\"Testing_25k Recall: {testing25k_recall:.4f}\")\n",
    "print(f\"Testing_25k F1 Score: {testing25k_f1:.4f}\")\n",
    "\n",
    "# 6. Plot the confusion matrix for the new testing dataset\n",
    "def plot_confusion_matrix_custom(y_true, y_pred, classes, title='Confusion Matrix'):\n",
    "    \"\"\"\n",
    "    Plots the confusion matrix using seaborn's heatmap.\n",
    "\n",
    "    Args:\n",
    "        y_true (list or array): True labels.\n",
    "        y_pred (list or array): Predicted labels.\n",
    "        classes (list): List of class names.\n",
    "        title (str): Title of the plot.\n",
    "    \"\"\"\n",
    "    cm = confusion_matrix(y_true, y_pred)\n",
    "    plt.figure(figsize=(8, 6))\n",
    "    sns.heatmap(cm, annot=True, fmt='d', cmap='Blues',\n",
    "                xticklabels=classes, yticklabels=classes)\n",
    "    plt.xlabel('Predicted Labels')\n",
    "    plt.ylabel('True Labels')\n",
    "    plt.title(title)\n",
    "    plt.show()\n",
    "\n",
    "# Define class names (modify if you have different labels)\n",
    "class_names = ['Non-Toxic', 'Toxic']\n",
    "\n",
    "# Plot the confusion matrix for the testing_25k dataset\n",
    "plot_confusion_matrix_custom(testing25k_labels_list, testing25k_preds_list, classes=class_names, title='Testing_25k Confusion Matrix')\n",
    "\n",
    "# ================== New Additions End Here ==================\n"
   ]
  }
 ],
 "metadata": {
  "kernelspec": {
   "display_name": "base",
   "language": "python",
   "name": "python3"
  },
  "language_info": {
   "codemirror_mode": {
    "name": "ipython",
    "version": 3
   },
   "file_extension": ".py",
   "mimetype": "text/x-python",
   "name": "python",
   "nbconvert_exporter": "python",
   "pygments_lexer": "ipython3",
   "version": "3.11.5"
  }
 },
 "nbformat": 4,
 "nbformat_minor": 2
}
